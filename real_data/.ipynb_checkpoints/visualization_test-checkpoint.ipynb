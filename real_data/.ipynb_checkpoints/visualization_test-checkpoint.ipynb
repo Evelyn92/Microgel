{
 "cells": [
  {
   "cell_type": "code",
   "execution_count": 9,
   "id": "ccb43aae",
   "metadata": {},
   "outputs": [],
   "source": [
    "import numpy as np\n",
    "import math\n",
    "import cv2\n",
    "import pandas as pd\n",
    "import mahotas\n",
    "from matplotlib import pyplot as plt\n",
    "from mpl_toolkits.mplot3d import Axes3D\n",
    "from skimage.measure import regionprops\n",
    "from skimage.transform import rescale, resize\n",
    "from skimage.morphology import thin\n",
    "from skimage.morphology import skeletonize\n",
    "from skimage.morphology import medial_axis\n",
    "from matplotlib.ticker import MultipleLocator\n",
    "from utils import dataset_loader, my_utils, Operations, Moments, generate_point_cloud\n",
    "import open3d as o3d\n",
    "import time"
   ]
  },
  {
   "cell_type": "code",
   "execution_count": 10,
   "id": "53f92706",
   "metadata": {},
   "outputs": [],
   "source": [
    "surface     = ['FOCTS', 'PEG', 'ODS']\n",
    "temperature = 24\n",
    "load_NIPAM  = False\n",
    "DATA_DIR    = \"../../dataset/Dataset\"\n",
    "dataset_dictionary  = dataset_loader.get_dataset(DATA_DIR = DATA_DIR, temperature = temperature, surface =surface, load_NIPAM = load_NIPAM, Flag_zreverse = True)"
   ]
  },
  {
   "cell_type": "code",
   "execution_count": 11,
   "id": "8a92f02b",
   "metadata": {},
   "outputs": [],
   "source": [
    "a = dataset_dictionary['PEG'][0]"
   ]
  },
  {
   "cell_type": "code",
   "execution_count": null,
   "id": "5988f723",
   "metadata": {},
   "outputs": [],
   "source": []
  },
  {
   "cell_type": "code",
   "execution_count": 12,
   "id": "3e605a53",
   "metadata": {},
   "outputs": [],
   "source": [
    "foct = o3d.geometry.PointCloud()\n",
    "foct.points = o3d.utility.Vector3dVector(dataset_dictionary['FOCTS'][0])\n",
    "\n",
    "peg = o3d.geometry.PointCloud()\n",
    "peg.points = o3d.utility.Vector3dVector(dataset_dictionary['PEG'][0])\n",
    "\n",
    "ods = o3d.geometry.PointCloud()\n",
    "ods.points = o3d.utility.Vector3dVector(dataset_dictionary['ODS'][0])\n"
   ]
  },
  {
   "cell_type": "code",
   "execution_count": null,
   "id": "ee08bf8d",
   "metadata": {},
   "outputs": [],
   "source": [
    "o3d.visualization.draw_geometries([foct])"
   ]
  },
  {
   "cell_type": "code",
   "execution_count": null,
   "id": "1cc39871",
   "metadata": {},
   "outputs": [],
   "source": [
    "o3d.visualization.draw_geometries([peg])"
   ]
  },
  {
   "cell_type": "code",
   "execution_count": null,
   "id": "304f2619",
   "metadata": {},
   "outputs": [],
   "source": [
    "o3d.visualization.draw_geometries([ods])"
   ]
  },
  {
   "cell_type": "code",
   "execution_count": null,
   "id": "448b4978",
   "metadata": {},
   "outputs": [],
   "source": [
    "print(\"Load a ply point cloud, print it, and render it\")\n",
    "pcd = o3d.geometry.PointCloud()\n",
    "pcd.points = o3d.utility.Vector3dVector(dataset_dictionary['ODS'][0])\n",
    "\n",
    "# o3d.visualization.draw_geometries([pcd])\n",
    "\n",
    "print(\"Downsample the point cloud with a voxel of 0.02\")\n",
    "voxel_down_pcd = pcd.voxel_down_sample(voxel_size=0.12)\n",
    "o3d.visualization.draw_geometries([voxel_down_pcd])"
   ]
  },
  {
   "cell_type": "code",
   "execution_count": null,
   "id": "9923ce14",
   "metadata": {},
   "outputs": [],
   "source": [
    "pcd = o3d.geometry.PointCloud()\n",
    "pcd.points = o3d.utility.Vector3dVector(dataset_dictionary['ODS'][1])\n",
    "tic = time.time()\n",
    "keypoints = o3d.geometry.keypoint.compute_iss_keypoints(pcd)\n",
    "toc = 1000 * (time.time() - tic)\n",
    "print(\"ISS Computation took {:.0f} [ms]\".format(toc))\n",
    "o3d.visualization.draw_geometries([keypoints])"
   ]
  },
  {
   "cell_type": "code",
   "execution_count": null,
   "id": "6d7327f0",
   "metadata": {},
   "outputs": [],
   "source": [
    "pcd = o3d.geometry.PointCloud()\n",
    "xyz = dataset_dictionary['PEG'][1]\n",
    "xyz /= xyz.max()\n",
    "pcd.points = o3d.utility.Vector3dVector(xyz)\n",
    "keypoints = pcd\n",
    "\n",
    "# keypoints = o3d.geometry.keypoint.compute_iss_keypoints(pcd)\n",
    "alpha = 0.007\n",
    "print(f\"alpha={alpha:.3f}\")\n",
    "mesh = o3d.geometry.TriangleMesh.create_from_point_cloud_alpha_shape(keypoints, alpha)\n",
    "mesh.compute_vertex_normals()\n",
    "o3d.visualization.draw_geometries([mesh], mesh_show_back_face=True)\n"
   ]
  },
  {
   "cell_type": "code",
   "execution_count": 53,
   "id": "808af98d",
   "metadata": {},
   "outputs": [],
   "source": [
    "pcd = o3d.geometry.PointCloud()\n",
    "pcd.points = o3d.utility.Vector3dVector(dataset_dictionary['ODS'][0])\n",
    "pcd.normals = o3d.utility.Vector3dVector(np.zeros((1, 3)))  # invalidate existing normals\n",
    "\n",
    "pcd.estimate_normals()\n",
    "o3d.visualization.draw_geometries([pcd], point_show_normal=True)"
   ]
  },
  {
   "cell_type": "code",
   "execution_count": 55,
   "id": "080d96e2",
   "metadata": {},
   "outputs": [],
   "source": [
    "### Visualization in form of animation\n",
    "def custom_draw_geometry_with_rotation(pcd):\n",
    "\n",
    "    def rotate_view(vis):\n",
    "        ctr = vis.get_view_control()\n",
    "        ctr.rotate(10.0, 0.0)\n",
    "        return False\n",
    "\n",
    "    o3d.visualization.draw_geometries_with_animation_callback([pcd],\n",
    "                                                              rotate_view)\n",
    "custom_draw_geometry_with_rotation(pcd)"
   ]
  },
  {
   "cell_type": "code",
   "execution_count": null,
   "id": "accb5c25",
   "metadata": {},
   "outputs": [],
   "source": []
  },
  {
   "cell_type": "code",
   "execution_count": null,
   "id": "2e29071a",
   "metadata": {},
   "outputs": [],
   "source": [
    "mesh.compute_vertex_normals()\n",
    "mesh.paint_uniform_color([0.5, 0.5, 0.5])\n",
    "keypoints.paint_uniform_color([1.0, 0.75, 0.0])\n",
    "o3d.visualization.draw_geometries([keypoints, mesh], front=[0, 0, -1.0])"
   ]
  },
  {
   "cell_type": "code",
   "execution_count": null,
   "id": "a148b5bc",
   "metadata": {},
   "outputs": [],
   "source": []
  },
  {
   "cell_type": "code",
   "execution_count": 27,
   "id": "739420fc",
   "metadata": {},
   "outputs": [],
   "source": [
    "a =dataset_dictionary['ODS'][0]\n",
    "a /= a.max()\n",
    "pcd = o3d.geometry.PointCloud()\n",
    "pcd.points = o3d.utility.Vector3dVector(a)\n",
    "voxel_down_pcd = pcd.voxel_down_sample(voxel_size=0.008)\n",
    "o3d.visualization.draw_geometries([voxel_down_pcd])\n",
    "\n"
   ]
  },
  {
   "cell_type": "code",
   "execution_count": 23,
   "id": "bfb26bed",
   "metadata": {},
   "outputs": [
    {
     "data": {
      "text/plain": [
       "TrackedArray([[9.51430565e-01, 5.25440182e-01, 1.99229208e-02],\n",
       "              [9.50857250e-01, 5.19207631e-01, 1.50607138e-02],\n",
       "              [9.56260947e-01, 5.17615907e-01, 1.77944036e-02],\n",
       "              ...,\n",
       "              [9.72688106e-01, 5.29676971e-01, 5.81223008e-03],\n",
       "              [9.76958743e-01, 5.22317852e-01, 2.30308622e-04],\n",
       "              [9.70579058e-01, 5.21726041e-01, 8.66291180e-03]])"
      ]
     },
     "execution_count": 23,
     "metadata": {},
     "output_type": "execute_result"
    }
   ],
   "source": [
    "a"
   ]
  },
  {
   "cell_type": "code",
   "execution_count": 6,
   "id": "fa20ad77",
   "metadata": {},
   "outputs": [
    {
     "ename": "ModuleNotFoundError",
     "evalue": "No module named 'open3d_tutorial'",
     "output_type": "error",
     "traceback": [
      "\u001b[0;31m---------------------------------------------------------------------------\u001b[0m",
      "\u001b[0;31mModuleNotFoundError\u001b[0m                       Traceback (most recent call last)",
      "\u001b[0;32m<ipython-input-6-cf71e1981376>\u001b[0m in \u001b[0;36m<module>\u001b[0;34m\u001b[0m\n\u001b[0;32m----> 1\u001b[0;31m \u001b[0;32mimport\u001b[0m \u001b[0mopen3d_tutorial\u001b[0m \u001b[0;32mas\u001b[0m \u001b[0mo3dtut\u001b[0m\u001b[0;34m\u001b[0m\u001b[0;34m\u001b[0m\u001b[0m\n\u001b[0m\u001b[1;32m      2\u001b[0m \u001b[0mmesh\u001b[0m \u001b[0;34m=\u001b[0m \u001b[0mo3dtut\u001b[0m\u001b[0;34m.\u001b[0m\u001b[0mget_armadillo_mesh\u001b[0m\u001b[0;34m(\u001b[0m\u001b[0;34m)\u001b[0m\u001b[0;34m\u001b[0m\u001b[0;34m\u001b[0m\u001b[0m\n\u001b[1;32m      3\u001b[0m \u001b[0mpcd\u001b[0m \u001b[0;34m=\u001b[0m \u001b[0mo3d\u001b[0m\u001b[0;34m.\u001b[0m\u001b[0mgeometry\u001b[0m\u001b[0;34m.\u001b[0m\u001b[0mPointCloud\u001b[0m\u001b[0;34m(\u001b[0m\u001b[0;34m)\u001b[0m\u001b[0;34m\u001b[0m\u001b[0;34m\u001b[0m\u001b[0m\n\u001b[1;32m      4\u001b[0m \u001b[0mpcd\u001b[0m\u001b[0;34m.\u001b[0m\u001b[0mpoints\u001b[0m \u001b[0;34m=\u001b[0m \u001b[0mmesh\u001b[0m\u001b[0;34m.\u001b[0m\u001b[0mvertices\u001b[0m\u001b[0;34m\u001b[0m\u001b[0;34m\u001b[0m\u001b[0m\n\u001b[1;32m      5\u001b[0m \u001b[0;34m\u001b[0m\u001b[0m\n",
      "\u001b[0;31mModuleNotFoundError\u001b[0m: No module named 'open3d_tutorial'"
     ]
    }
   ],
   "source": [
    "import open3d_tutorial as o3dtut\n",
    "mesh = o3dtut.get_armadillo_mesh()\n",
    "pcd = o3d.geometry.PointCloud()\n",
    "pcd.points = mesh.vertices\n",
    "\n",
    "tic = time.time()\n",
    "keypoints = o3d.geometry.keypoint.compute_iss_keypoints(pcd)\n",
    "toc = 1000 * (time.time() - tic)\n",
    "print(\"ISS Computation took {:.0f} [ms]\".format(toc))\n",
    "\n",
    "mesh.compute_vertex_normals()\n",
    "mesh.paint_uniform_color([0.5, 0.5, 0.5])\n",
    "keypoints.paint_uniform_color([1.0, 0.75, 0.0])\n",
    "o3d.visualization.draw_geometries([keypoints, mesh], front=[0, 0, -1.0])"
   ]
  },
  {
   "cell_type": "code",
   "execution_count": null,
   "id": "56fb3eef",
   "metadata": {},
   "outputs": [],
   "source": []
  },
  {
   "cell_type": "code",
   "execution_count": 16,
   "id": "06837569",
   "metadata": {},
   "outputs": [],
   "source": [
    "#visualize all Foct samples\n",
    "focts = []\n",
    "for idx in range(len(dataset_dictionary['FOCTS'])):\n",
    "    foct = o3d.geometry.PointCloud()\n",
    "    foct.points = o3d.utility.Vector3dVector(dataset_dictionary['FOCTS'][idx])\n",
    "    focts.append(foct)\n",
    "o3d.visualization.draw_geometries(focts)\n"
   ]
  },
  {
   "cell_type": "code",
   "execution_count": 56,
   "id": "e2627276",
   "metadata": {},
   "outputs": [],
   "source": [
    "#visualize all Foct key points samples\n",
    "focts = []\n",
    "for idx in range(len(dataset_dictionary['FOCTS'])):\n",
    "    foct = o3d.geometry.PointCloud()\n",
    "    foct.points = o3d.utility.Vector3dVector(dataset_dictionary['FOCTS'][idx])\n",
    "    keypoints = o3d.geometry.keypoint.compute_iss_keypoints(foct)\n",
    "    focts.append(keypoints)\n",
    "o3d.visualization.draw_geometries(focts)\n",
    "\n"
   ]
  },
  {
   "cell_type": "code",
   "execution_count": 21,
   "id": "19e69910",
   "metadata": {},
   "outputs": [],
   "source": [
    "#visualize all PEG samples\n",
    "focts = []\n",
    "for idx in range(len(dataset_dictionary['PEG'])):\n",
    "    foct = o3d.geometry.PointCloud()\n",
    "    foct.points = o3d.utility.Vector3dVector(dataset_dictionary['PEG'][idx])\n",
    "    focts.append(foct)\n",
    "o3d.visualization.draw_geometries(focts)"
   ]
  },
  {
   "cell_type": "code",
   "execution_count": 18,
   "id": "501503a9",
   "metadata": {},
   "outputs": [],
   "source": [
    "#visualize all PEG samples\n",
    "focts = []\n",
    "for idx in range(len(dataset_dictionary['ODS'])):\n",
    "    foct = o3d.geometry.PointCloud()\n",
    "    foct.points = o3d.utility.Vector3dVector(dataset_dictionary['ODS'][idx])\n",
    "    focts.append(foct)\n",
    "o3d.visualization.draw_geometries(focts)"
   ]
  },
  {
   "cell_type": "code",
   "execution_count": null,
   "id": "ab521c1b",
   "metadata": {},
   "outputs": [],
   "source": []
  },
  {
   "cell_type": "code",
   "execution_count": null,
   "id": "455324f6",
   "metadata": {},
   "outputs": [],
   "source": []
  },
  {
   "cell_type": "code",
   "execution_count": null,
   "id": "d2531e28",
   "metadata": {},
   "outputs": [],
   "source": []
  },
  {
   "cell_type": "code",
   "execution_count": 7,
   "id": "dc2bf9cd",
   "metadata": {},
   "outputs": [],
   "source": [
    "vis = o3d.visualization.Visualizer()\n",
    "vis.create_window()\n",
    "\n",
    "# geometry is the point cloud used in your animaiton\n",
    "geometry = o3d.geometry.PointCloud()\n",
    "vis.add_geometry(geometry)\n",
    "\n",
    "for i in range(1):\n",
    "    # now modify the points of your geometry\n",
    "    # you can use whatever method suits you best, this is just an example\n",
    "    pcd.points = o3d.utility.Vector3dVector(dataset_dictionary['PEG'][i])\n",
    "    geometry.points = pcd.points\n",
    "    vis.update_geometry(geometry)\n",
    "    vis.poll_events()\n",
    "    vis.update_renderer()\n"
   ]
  },
  {
   "cell_type": "code",
   "execution_count": null,
   "id": "5ab1d6bf",
   "metadata": {},
   "outputs": [],
   "source": []
  }
 ],
 "metadata": {
  "kernelspec": {
   "display_name": "Python 3 (ipykernel)",
   "language": "python",
   "name": "python3"
  },
  "language_info": {
   "codemirror_mode": {
    "name": "ipython",
    "version": 3
   },
   "file_extension": ".py",
   "mimetype": "text/x-python",
   "name": "python",
   "nbconvert_exporter": "python",
   "pygments_lexer": "ipython3",
   "version": "3.7.11"
  }
 },
 "nbformat": 4,
 "nbformat_minor": 5
}
