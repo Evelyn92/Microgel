{
 "cells": [
  {
   "cell_type": "markdown",
   "id": "a7819d31",
   "metadata": {},
   "source": [
    "main_project_real_data_007\n",
    "refinePC\n",
    "cell[12]\n",
    "normalized_dataset_dict\n",
    "\n",
    " "
   ]
  }
 ],
 "metadata": {
  "kernelspec": {
   "display_name": "Python 3",
   "language": "python",
   "name": "python3"
  },
  "language_info": {
   "codemirror_mode": {
    "name": "ipython",
    "version": 3
   },
   "file_extension": ".py",
   "mimetype": "text/x-python",
   "name": "python",
   "nbconvert_exporter": "python",
   "pygments_lexer": "ipython3",
   "version": "3.6.13"
  }
 },
 "nbformat": 4,
 "nbformat_minor": 5
}
